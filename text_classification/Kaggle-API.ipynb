{
 "cells": [
  {
   "cell_type": "markdown",
   "id": "30c5c2d7",
   "metadata": {},
   "source": [
    "# Install Kaggle Package "
   ]
  },
  {
   "cell_type": "code",
   "execution_count": 1,
   "id": "5f1c3ff3",
   "metadata": {},
   "outputs": [
    {
     "name": "stdout",
     "output_type": "stream",
     "text": [
      "/usr/lib/python3/dist-packages/secretstorage/dhcrypto.py:15: CryptographyDeprecationWarning: int_from_bytes is deprecated, use int.from_bytes instead\n",
      "  from cryptography.utils import int_from_bytes\n",
      "/usr/lib/python3/dist-packages/secretstorage/util.py:19: CryptographyDeprecationWarning: int_from_bytes is deprecated, use int.from_bytes instead\n",
      "  from cryptography.utils import int_from_bytes\n",
      "\u001b[33mWARNING: Value for scheme.platlib does not match. Please report this to <https://github.com/pypa/pip/issues/10151>\n",
      "distutils: /usr/local/lib/python3.6/dist-packages\n",
      "sysconfig: /usr/lib/python3.6/site-packages\u001b[0m\n",
      "\u001b[33mWARNING: Value for scheme.purelib does not match. Please report this to <https://github.com/pypa/pip/issues/10151>\n",
      "distutils: /usr/local/lib/python3.6/dist-packages\n",
      "sysconfig: /usr/lib/python3.6/site-packages\u001b[0m\n",
      "\u001b[33mWARNING: Value for scheme.headers does not match. Please report this to <https://github.com/pypa/pip/issues/10151>\n",
      "distutils: /usr/local/include/python3.6/UNKNOWN\n",
      "sysconfig: /usr/include/python3.6m/UNKNOWN\u001b[0m\n",
      "\u001b[33mWARNING: Value for scheme.scripts does not match. Please report this to <https://github.com/pypa/pip/issues/10151>\n",
      "distutils: /usr/local/bin\n",
      "sysconfig: /usr/bin\u001b[0m\n",
      "\u001b[33mWARNING: Value for scheme.data does not match. Please report this to <https://github.com/pypa/pip/issues/10151>\n",
      "distutils: /usr/local\n",
      "sysconfig: /usr\u001b[0m\n",
      "\u001b[33mWARNING: Additional context:\n",
      "user = False\n",
      "home = None\n",
      "root = None\n",
      "prefix = None\u001b[0m\n",
      "Defaulting to user installation because normal site-packages is not writeable\n",
      "Requirement already satisfied: kaggle in /home/pranjald/.local/lib/python3.6/site-packages (1.5.12)\n",
      "Requirement already satisfied: certifi in /home/pranjald/.local/lib/python3.6/site-packages (from kaggle) (2020.6.20)\n",
      "Requirement already satisfied: python-dateutil in /home/pranjald/.local/lib/python3.6/site-packages (from kaggle) (2.8.1)\n",
      "Requirement already satisfied: python-slugify in /home/pranjald/.local/lib/python3.6/site-packages (from kaggle) (4.0.1)\n",
      "Requirement already satisfied: tqdm in /home/pranjald/.local/lib/python3.6/site-packages (from kaggle) (4.50.2)\n",
      "Requirement already satisfied: urllib3 in /home/pranjald/.local/lib/python3.6/site-packages (from kaggle) (1.25.10)\n",
      "Requirement already satisfied: requests in /home/pranjald/.local/lib/python3.6/site-packages (from kaggle) (2.25.1)\n",
      "Requirement already satisfied: six>=1.10 in /home/pranjald/.local/lib/python3.6/site-packages (from kaggle) (1.15.0)\n",
      "Requirement already satisfied: text-unidecode>=1.3 in /home/pranjald/.local/lib/python3.6/site-packages (from python-slugify->kaggle) (1.3)\n",
      "Requirement already satisfied: idna<3,>=2.5 in /home/pranjald/.local/lib/python3.6/site-packages (from requests->kaggle) (2.8)\n",
      "Requirement already satisfied: chardet<5,>=3.0.2 in /home/pranjald/.local/lib/python3.6/site-packages (from requests->kaggle) (3.0.4)\n",
      "\u001b[33mWARNING: Value for scheme.headers does not match. Please report this to <https://github.com/pypa/pip/issues/10151>\n",
      "distutils: /home/pranjald/.local/include/python3.6m/UNKNOWN\n",
      "sysconfig: /home/pranjald/.local/include/python3.6/UNKNOWN\u001b[0m\n",
      "\u001b[33mWARNING: Additional context:\n",
      "user = True\n",
      "home = None\n",
      "root = None\n",
      "prefix = None\u001b[0m\n",
      "\u001b[33mWARNING: You are using pip version 21.2.1; however, version 21.3.1 is available.\n",
      "You should consider upgrading via the '/usr/bin/python3 -m pip install --upgrade pip' command.\u001b[0m\n"
     ]
    }
   ],
   "source": [
    "!pip install kaggle"
   ]
  },
  {
   "cell_type": "markdown",
   "id": "22812608",
   "metadata": {},
   "source": [
    "Go to https://www.kaggle.com/ and download your API key. <br>\n",
    "Also make sure to create `.kaggle` and copy `kaggle.json` into that directory "
   ]
  },
  {
   "cell_type": "code",
   "execution_count": 2,
   "id": "50da9bcd",
   "metadata": {},
   "outputs": [
    {
     "name": "stdout",
     "output_type": "stream",
     "text": [
      "mkdir: cannot create directory ‘/home/pranjald/.kaggle’: File exists\r\n"
     ]
    }
   ],
   "source": [
    "!mkdir ~/.kaggle"
   ]
  },
  {
   "cell_type": "code",
   "execution_count": 3,
   "id": "7c36dbd3",
   "metadata": {},
   "outputs": [
    {
     "name": "stdout",
     "output_type": "stream",
     "text": [
      "kaggle.json\r\n"
     ]
    }
   ],
   "source": [
    "!ls ~/.kaggle"
   ]
  },
  {
   "cell_type": "markdown",
   "id": "7b8a9f13",
   "metadata": {},
   "source": [
    "It's good idea to refer kaggle api documentation : https://www.kaggle.com/docs/api"
   ]
  },
  {
   "cell_type": "markdown",
   "id": "93474c7c",
   "metadata": {},
   "source": [
    "Search for datasets"
   ]
  },
  {
   "cell_type": "code",
   "execution_count": 5,
   "id": "b710f6c6",
   "metadata": {},
   "outputs": [
    {
     "name": "stdout",
     "output_type": "stream",
     "text": [
      "Warning: Your Kaggle API key is readable by other users on this system! To fix this, you can run 'chmod 600 /home/pranjald/.kaggle/kaggle.json'\n",
      "ref                                                              title                                           size  lastUpdated          downloadCount  voteCount  usabilityRating  \n",
      "---------------------------------------------------------------  ---------------------------------------------  -----  -------------------  -------------  ---------  ---------------  \n",
      "datasets/danofer/sarcasm                                         Sarcasm on Reddit                              216MB  2018-05-27 08:19:04           8266        228  1.0              \n",
      "datasets/rmisra/news-headlines-dataset-for-sarcasm-detection     News Headlines Dataset For Sarcasm Detection     3MB  2019-07-03 23:52:57          30910        792  1.0              \n",
      "datasets/saurabhbagchi/sarcasm-detection-through-nlp             Sarcasm detection                                2MB  2021-03-20 08:31:15            327         12  1.0              \n",
      "datasets/nikhiljohnk/tweets-with-sarcasm-and-irony               Tweets with Sarcasm and Irony                    4MB  2020-11-04 10:14:04            776         17  0.8235294        \n",
      "datasets/rmisra/news-category-dataset                            News Category Dataset                           25MB  2018-12-02 04:09:45          32210        546  1.0              \n",
      "datasets/sherinclaudia/sarcastic-comments-on-reddit              Sarcastic Comments - REDDIT                    106MB  2019-01-30 14:41:53           2472        113  0.7647059        \n",
      "datasets/mikahama/the-best-sarcasm-annotated-dataset-in-spanish  The Best Sarcasm Annotated Dataset in Spanish   26KB  2020-06-21 16:50:44            220         16  1.0              \n",
      "datasets/khotijahs1/data-train                                   English Sarcasm                                190KB  2020-11-29 02:02:05            111         16  0.47058824       \n",
      "datasets/rmisra/clothing-fit-dataset-for-size-recommendation     Clothing Fit Dataset for Size Recommendation    40MB  2018-08-21 19:00:16           6295        137  1.0              \n",
      "datasets/theynalzada/news-headlines-for-sarcasm-detection        Sarcasm Detection                              389KB  2021-11-21 19:00:39            104          2  1.0              \n",
      "datasets/rmisra/imdb-spoiler-dataset                             IMDB Spoiler Dataset                           331MB  2019-05-22 04:44:43           2201         49  1.0              \n",
      "datasets/gpreda/i-dont-work-here-lady                            I Don't Work Here Lady                           3MB  2022-03-31 07:51:55             28         11  1.0              \n",
      "datasets/kashnitsky/mlcourse                                     mlcourse.ai                                     51MB  2018-12-09 16:45:09          31281       1440  0.88235295       \n",
      "datasets/wenxindong/sarcasm                                      sarcasm                                         26MB  2020-11-06 05:09:28             51          1  0.29411766       \n",
      "datasets/harrotuin/dutch-news-headlines                          Dutch news headlines for sarcasm detection     751KB  2020-12-14 09:07:44             47          2  1.0              \n",
      "datasets/toygarr/datasets-for-natural-language-processing        datasets for natural language processing       153MB  2022-01-04 14:07:26             79          9  0.8125           \n",
      "datasets/sachinichake/detect-sarcasm-in-comments                 Detect Sarcasm in Comments                       2MB  2020-08-05 08:25:37             55          1  0.47058824       \n",
      "datasets/negiaditya/sarcasm                                      sarcasm                                          2MB  2020-05-18 20:17:56             30          0  0.3125           \n",
      "datasets/harriken/bias-media-cat                                 Bias Media CAT                                  17MB  2017-10-27 22:46:25            380         32  0.7647059        \n",
      "datasets/akshit3050/sarcasm                                      sarcasm                                         26MB  2018-08-04 04:44:21            134          0  0.3529412        \n"
     ]
    }
   ],
   "source": [
    "!kaggle datasets list -s 'sarcasm'"
   ]
  },
  {
   "cell_type": "markdown",
   "id": "4f89e2a0",
   "metadata": {},
   "source": [
    "Download dataset "
   ]
  },
  {
   "cell_type": "code",
   "execution_count": 6,
   "id": "91326531",
   "metadata": {},
   "outputs": [
    {
     "name": "stdout",
     "output_type": "stream",
     "text": [
      "Warning: Your Kaggle API key is readable by other users on this system! To fix this, you can run 'chmod 600 /home/pranjald/.kaggle/kaggle.json'\n",
      "Downloading news-headlines-dataset-for-sarcasm-detection.zip to /home/pranjald/Documents/project/NLP/text_classification\n",
      " 30%|███████████▌                          | 1.00M/3.30M [00:00<00:00, 7.17MB/s]\n",
      "100%|██████████████████████████████████████| 3.30M/3.30M [00:00<00:00, 18.7MB/s]\n"
     ]
    }
   ],
   "source": [
    "!kaggle datasets download -d rmisra/news-headlines-dataset-for-sarcasm-detection"
   ]
  },
  {
   "cell_type": "code",
   "execution_count": 7,
   "id": "0714289d",
   "metadata": {},
   "outputs": [
    {
     "name": "stdout",
     "output_type": "stream",
     "text": [
      "imdb-dataset-of-50k-movie-reviews\r\n",
      "Kaggle-API.ipynb\r\n",
      "news-headlines-dataset-for-sarcasm-detection.zip\r\n",
      "Untitled.ipynb\r\n"
     ]
    }
   ],
   "source": [
    "!ls"
   ]
  },
  {
   "cell_type": "code",
   "execution_count": null,
   "id": "9ed1ba2e",
   "metadata": {},
   "outputs": [],
   "source": []
  }
 ],
 "metadata": {
  "kernelspec": {
   "display_name": "Python 3",
   "language": "python",
   "name": "python3"
  },
  "language_info": {
   "codemirror_mode": {
    "name": "ipython",
    "version": 3
   },
   "file_extension": ".py",
   "mimetype": "text/x-python",
   "name": "python",
   "nbconvert_exporter": "python",
   "pygments_lexer": "ipython3",
   "version": "3.6.9"
  }
 },
 "nbformat": 4,
 "nbformat_minor": 5
}
